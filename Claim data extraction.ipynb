{
 "cells": [
  {
   "cell_type": "code",
   "execution_count": 1,
   "id": "ed997fdd",
   "metadata": {},
   "outputs": [],
   "source": [
    "import re\n",
    "import pandas as pd\n",
    "from os import listdir\n",
    "from os.path import isfile, join"
   ]
  },
  {
   "cell_type": "code",
   "execution_count": 2,
   "id": "94e16dde",
   "metadata": {},
   "outputs": [],
   "source": [
    "# preparing regular expressions for the desired columns\n",
    "\n",
    "grant_id = re.compile('file\\=\\\"([U][S]\\w\\w\\d{6})\\-\\d{8}\\.XML\\\"')\n",
    "patent_title = re.compile(\"<invention-title id=\\\"\\w{5,6}\\\">(.*?)</invention-title>\") \n",
    "kind = re.compile(\"<kind>([A-Z]\\d)</kind>\")\n",
    "number_of_claim = re.compile(\"\\<number\\-of\\-claims\\>(\\d{1,4})\\<\\/number\\-of\\-claims\\>\")\n",
    "first_name = re.compile(\"<first-name>(.*?)</first-name>\")\n",
    "last_name = re.compile(\"<last-name>(.*?)</last-name>\")\n",
    "citation_by_examiner = re.compile(\"\\<category\\>cited by examiner<\\/category\\>\")\n",
    "citation_by_applicant = re.compile(\"\\<category>cited by applicant\\<\\/category\\>\")\n",
    "claim_text = re.compile(\"<claim-text>[\\s\\S<]*</claim-text>\")\n",
    "abstract = re.compile(\"\\<abstract id\\=\\\"abstract\\\"\\>\\n\\<p id\\=\\\"p\\-0001\\\" num\\=\\\"0000\\\"\\>(.*?)\\<\\/p\\>\\n\\<\\/abstract\\>\")\n",
    "\n",
    "# cleaner for claim_text\n",
    "cleaner = re.compile('<.*?>') \n",
    "cleaner2 = re.compile('\\n')\n",
    "cleaner3 = re.compile('\\,\\,\\,')\n",
    "cleaner4 = re.compile(\"[\\.][\\,][\\,]\")\n",
    "cleaner5 = re.compile(\"[\\,][\\,]\")\n",
    "cleaner6 = re.compile(\"[\\;][\\,]\")"
   ]
  },
  {
   "cell_type": "code",
   "execution_count": 3,
   "id": "2cf88fce",
   "metadata": {},
   "outputs": [
    {
     "name": "stdout",
     "output_type": "stream",
     "text": [
      "./uspto/ipg220830.xml\n",
      "No of patents : 7394\n"
     ]
    },
    {
     "name": "stderr",
     "output_type": "stream",
     "text": [
      "/tmp/ipykernel_619143/1232607338.py:109: FutureWarning: The frame.append method is deprecated and will be removed from pandas in a future version. Use pandas.concat instead.\n",
      "  df = df.append(data_frame, ignore_index=True)\n"
     ]
    },
    {
     "name": "stdout",
     "output_type": "stream",
     "text": [
      "./uspto/ipg220913.xml\n",
      "No of patents : 7453\n",
      "./uspto/ipg220222.xml\n",
      "No of patents : 7362\n",
      "./uspto/ipg220802.xml\n",
      "No of patents : 7416\n",
      "./uspto/ipg220301.xml\n",
      "No of patents : 7356\n",
      "./uspto/ipg221004.xml\n",
      "No of patents : 7426\n",
      "./uspto/ipg220405.xml\n",
      "No of patents : 7373\n",
      "./uspto/ipg220712.xml\n",
      "No of patents : 7414\n",
      "./uspto/ipg220111.xml\n",
      "No of patents : 5679\n",
      "./uspto/ipg220322.xml\n",
      "No of patents : 7352\n",
      "./uspto/ipg220201.xml\n",
      "No of patents : 7395\n",
      "./uspto/ipg220118.xml\n",
      "No of patents : 3569\n",
      "./uspto/ipg220208.xml\n",
      "No of patents : 5888\n",
      "./uspto/ipg220426.xml\n",
      "No of patents : 7336\n",
      "./uspto/ipg220920.xml\n",
      "No of patents : 7448\n",
      "./uspto/ipg220927.xml\n",
      "No of patents : 5921\n",
      "./uspto/ipg220726.xml\n",
      "No of patents : 4668\n",
      "./uspto/ipg220614.xml\n",
      "No of patents : 7463\n",
      "./uspto/ipg220125.xml\n",
      "No of patents : 5865\n",
      "./uspto/ipg220628.xml\n",
      "No of patents : 7436\n",
      "./uspto/ipg220531.xml\n",
      "No of patents : 7424\n",
      "./uspto/ipg220705.xml\n",
      "No of patents : 7411\n",
      "./uspto/ipg220412.xml\n",
      "No of patents : 7399\n",
      "./uspto/ipg220621.xml\n",
      "No of patents : 6013\n",
      "./uspto/ipg220329.xml\n",
      "No of patents : 7339\n",
      "./uspto/ipg221025.xml\n",
      "No of patents : 6578\n",
      "./uspto/ipg220823.xml\n",
      "No of patents : 7417\n",
      "./uspto/ipg220816.xml\n",
      "No of patents : 7401\n",
      "./uspto/ipg220315.xml\n",
      "No of patents : 5951\n",
      "./uspto/ipg220809.xml\n",
      "No of patents : 7410\n",
      "./uspto/ipg220524.xml\n",
      "No of patents : 7436\n",
      "./uspto/ipg220719.xml\n",
      "No of patents : 7430\n",
      "./uspto/ipg220215.xml\n",
      "No of patents : 7313\n",
      "./uspto/ipg221018.xml\n",
      "No of patents : 8291\n",
      "./uspto/ipg221011.xml\n",
      "No of patents : 7445\n",
      "./uspto/ipg220419.xml\n",
      "No of patents : 7427\n",
      "./uspto/ipg220906.xml\n",
      "No of patents : 7407\n",
      "./uspto/ipg220517.xml\n",
      "No of patents : 7453\n",
      "./uspto/220503.xml\n",
      "No of patents : 7429\n",
      "./uspto/ipg220510.xml\n",
      "No of patents : 7416\n",
      "./uspto/ipg220607.xml\n",
      "No of patents : 7461\n",
      "./uspto/ipg220104.xml\n",
      "No of patents : 6939\n"
     ]
    }
   ],
   "source": [
    "mypath = './uspto'\n",
    "paths = [mypath+'/'+f for f in listdir(mypath) if isfile(join(mypath, f))]\n",
    "nbr_of_patents = []\n",
    "\n",
    "df = pd.DataFrame(columns=['grant_id','patent_title','kind','number_of_claims','inventors',\n",
    "                           'citations_applicant_count','citations_examiner_count','claims_text','abstract'])\n",
    "for path in paths:\n",
    "    print(path)\n",
    "    file = open(file=path, mode='r') #opening the file in read mode\n",
    "    file_content_raw = file.read()\n",
    "    file.close()\n",
    "    text1 = re.compile(\"<\\?xml version=\\\"1\\.0\\\" encoding\\=\\\"UTF\\-8\\\"\\?>\")\n",
    "    file_content = text1.split(file_content_raw)\n",
    "    while '' in file_content:\n",
    "        file_content.remove('')\n",
    "    print(\"No of patents :\", len(file_content))\n",
    "    nbr_of_patents.append(len(file_content))\n",
    "    \n",
    "    gid_list, title_list, kind_list, no_of_claim_list, name_list, applicant_list, examiners_list, claim_list, abstract_list, = ([] for i in range(9))\n",
    "\n",
    "    for line in file_content:\n",
    "\n",
    "        gid = grant_id.findall(line)\n",
    "        title = patent_title.findall(line)\n",
    "        kinds = kind.findall(line)\n",
    "        sclaim = number_of_claim.findall(line)\n",
    "\n",
    "        #looking for inventors\n",
    "        inventors = re.findall(\"<inventor.*?>[\\s\\S]*</inventor>\",line)\n",
    "        for person in inventors:\n",
    "            first = first_name.findall(person)\n",
    "            last = last_name.findall(person)\n",
    "        name = [firstName +\" \"+ lastName for firstName, lastName in zip(first,last)]\n",
    "        if len(name) == 0:\n",
    "            names = \"NA\"\n",
    "        else:\n",
    "            names = name\n",
    "\n",
    "        #this code is to count number of citations by applicant\n",
    "        if len(citation_by_applicant.findall(line)) == 0:\n",
    "            citation_by_applicants = 0\n",
    "        else:\n",
    "            citation_by_applicants = len(citation_by_applicant.findall(line)) \n",
    "\n",
    "        # count for citation_by_examiner\n",
    "        if len(citation_by_examiner.findall(line)) == 0:\n",
    "            citation_by_examiners = 0\n",
    "        else:    \n",
    "            citation_by_examiners = len(citation_by_examiner.findall(line))   \n",
    "\n",
    "        # Search for claim_text\n",
    "        if (len(re.findall(\"<claim-text>[\\s\\S<]*</claim-text>\",line)) == 0):\n",
    "            claim_text = [\"NA\"]\n",
    "        else:\n",
    "            claim_text = re.findall(\"<claim-text>[\\s\\S<]*</claim-text>\",line) \n",
    "\n",
    "        #Reading abstract\n",
    "        abst = abstract.findall(line)\n",
    "        if len(abst) == 0:\n",
    "            abstracts = [\"NA\"]\n",
    "        else:    \n",
    "            abstracts = abst  \n",
    "            \n",
    "        if len(title) == 0:\n",
    "            title = [\"NA\"]\n",
    "\n",
    "        # check if there is more than one gid to append all the lists\n",
    "        if len(gid) != 0:                             \n",
    "            gid_list.append(gid[0])\n",
    "            title_list.append(title[0])\n",
    "            kind_list.append(kinds[0])\n",
    "            no_of_claim_list.append(sclaim[0])\n",
    "            name_list.append(names)\n",
    "            applicant_list.append(citation_by_applicants)\n",
    "            examiners_list.append(citation_by_examiners)\n",
    "            claim_list.append(claim_text[0])\n",
    "            abstract_list.append(abstracts[0])\n",
    "\n",
    "    #Use cleaners for claim text         \n",
    "    element = 0\n",
    "    for items in claim_list:\n",
    "        claim_list[element] = re.sub(cleaner,'',claim_list[element])\n",
    "        claim_list[element] = re.sub(cleaner2,',',claim_list[element])\n",
    "        claim_list[element] = re.sub(cleaner3,',',claim_list[element])\n",
    "        claim_list[element] = re.sub(cleaner4,'.,',claim_list[element])\n",
    "        claim_list[element] = re.sub(cleaner5,',',claim_list[element])\n",
    "        claim_list[element] = re.sub(cleaner6,'; ',claim_list[element])\n",
    "        element = element + 1\n",
    "\n",
    "    # Replace abbreviation to get the kind \n",
    "    Kind1 = [w.replace('P2', 'Plant Patent Grant(with a published application) issued on or after January 2, 2001') for w in kind_list]\n",
    "    Kind2 = [w.replace('B2', 'Utility Patent Grant (with a published application) issued on or after January 2, 2001.') for w in Kind1]\n",
    "    Kind3 = [w.replace('S1', 'Design Patent') for w in Kind2]\n",
    "    Kind4 = [w.replace('B1', 'Utility Patent Grant (no published application) issued on or after January 2, 2001.') for w in Kind3]\n",
    "\n",
    "    # Get all results ad DataFrame\n",
    "    data_frame = pd.DataFrame(\n",
    "        {'grant_id': gid_list,\n",
    "         'patent_title': title_list,\n",
    "         'kind': Kind4,\n",
    "         'number_of_claims':no_of_claim_list,\n",
    "         'inventors':name_list,\n",
    "         'citations_applicant_count':applicant_list,\n",
    "         'citations_examiner_count':examiners_list,\n",
    "         'claims_text':claim_list,\n",
    "         'abstract':abstract_list\n",
    "        })\n",
    "    \n",
    "    df = df.append(data_frame, ignore_index=True)"
   ]
  },
  {
   "cell_type": "code",
   "execution_count": 7,
   "id": "9183d86c",
   "metadata": {},
   "outputs": [],
   "source": [
    "stats = pd.DataFrame({'date':[path.split('/')[-1].split('.')[0] for path in paths],'number of patents':nbr_of_patents})\n",
    "stats.to_csv('./patents_per_week.csv')"
   ]
  },
  {
   "cell_type": "code",
   "execution_count": 8,
   "id": "0c010a1c",
   "metadata": {
    "scrolled": true
   },
   "outputs": [],
   "source": [
    "df.to_csv('./uspto_df.csv')"
   ]
  },
  {
   "cell_type": "code",
   "execution_count": 9,
   "id": "78ac8e85",
   "metadata": {},
   "outputs": [
    {
     "data": {
      "text/plain": [
       "288878"
      ]
     },
     "execution_count": 9,
     "metadata": {},
     "output_type": "execute_result"
    }
   ],
   "source": [
    "len(df)"
   ]
  },
  {
   "cell_type": "markdown",
   "id": "17805814",
   "metadata": {},
   "source": [
    "# Dependency analysis between claims"
   ]
  },
  {
   "cell_type": "markdown",
   "id": "59849423",
   "metadata": {},
   "source": [
    "Patents follow an inherent structure in they way they are structure.\n",
    "- The fact that patent claims are always numbered can be used to tokenize claim text into separate claims\n",
    "- Dependent claims usually refer to previous independent claims using certain terminologies (“ as in claim #\")\n",
    "- In the next step, we will create a custom \"Claim Tokenizer\" using a basic regular expression that captures the numbered nature of claims\n",
    "> For this claim, I will be using the Regular expression that captures any number (digit) followed by a full-stop"
   ]
  },
  {
   "cell_type": "code",
   "execution_count": 10,
   "id": "390a7a3d",
   "metadata": {},
   "outputs": [],
   "source": [
    "import pandas as pd\n",
    "import nltk\n",
    "import re\n",
    "import logging\n",
    "#import stanfordcorenlp\n",
    "import networkx as nx\n",
    "import matplotlib.pyplot as plt\n",
    "import pandas\n",
    "import math\n",
    "import numpy as np\n",
    "import warnings\n",
    "\n",
    "warnings.filterwarnings('ignore')\n",
    "\n"
   ]
  },
  {
   "cell_type": "code",
   "execution_count": 16,
   "id": "040387a7",
   "metadata": {},
   "outputs": [],
   "source": [
    "claim_text = df['claims_text'][2100]"
   ]
  },
  {
   "cell_type": "code",
   "execution_count": 17,
   "id": "1b78a5d6",
   "metadata": {},
   "outputs": [
    {
     "name": "stdout",
     "output_type": "stream",
     "text": [
      "                                               Claims  Claim_ID\n",
      "0    A hydraulic system for controlling a left cas...         1\n",
      "1    The hydraulic system set forth in claim 1, wh...         2\n",
      "2    The hydraulic system set forth in claim 1, wh...         3\n",
      "3    The hydraulic system set forth in claim 3, wh...         4\n",
      "4    The hydraulic system set forth in claim 1, wh...         5\n",
      "5    The hydraulic system set forth in claim 1, wh...         6\n",
      "6    The hydraulic system set forth in claim 6, fu...         7\n",
      "7    The hydraulic system set forth in claim 7, wh...         8\n",
      "8    The hydraulic system set forth in claim 7, fu...         9\n",
      "9    The hydraulic system set forth in claim 1, wh...        10\n",
      "10   The hydraulic system set forth in claim 10, f...        11\n",
      "11   The hydraulic system set forth in claim 11, f...        12\n",
      "12   The hydraulic system set forth in claim 1, wh...        13\n",
      "13   The hydraulic system set forth in claim 13, w...        14\n",
      "14   A hydraulic system for controlling a left cas...        15\n",
      "15   The hydraulic system set forth in claim 15, w...        16\n",
      "16   The hydraulic system set forth in claim 15, w...        17\n",
      "                                               Claims  Claim_ID  \\\n",
      "0    A hydraulic system for controlling a left cas...         1   \n",
      "1    The hydraulic system set forth in claim 1, wh...         2   \n",
      "2    The hydraulic system set forth in claim 1, wh...         3   \n",
      "3    The hydraulic system set forth in claim 3, wh...         4   \n",
      "4    The hydraulic system set forth in claim 1, wh...         5   \n",
      "5    The hydraulic system set forth in claim 1, wh...         6   \n",
      "6    The hydraulic system set forth in claim 6, fu...         7   \n",
      "7    The hydraulic system set forth in claim 7, wh...         8   \n",
      "8    The hydraulic system set forth in claim 7, fu...         9   \n",
      "9    The hydraulic system set forth in claim 1, wh...        10   \n",
      "10   The hydraulic system set forth in claim 10, f...        11   \n",
      "11   The hydraulic system set forth in claim 11, f...        12   \n",
      "12   The hydraulic system set forth in claim 1, wh...        13   \n",
      "13   The hydraulic system set forth in claim 13, w...        14   \n",
      "14   A hydraulic system for controlling a left cas...        15   \n",
      "15   The hydraulic system set forth in claim 15, w...        16   \n",
      "16   The hydraulic system set forth in claim 15, w...        17   \n",
      "\n",
      "   Parent_claim_desc Parent_claim_num  Claim_node Parent_node  \n",
      "0                NaN                0           1         1.0  \n",
      "1            claim 1                1           2           1  \n",
      "2            claim 1                1           3           1  \n",
      "3            claim 3                3           4           3  \n",
      "4            claim 1                1           5           1  \n",
      "5            claim 1                1           6           1  \n",
      "6            claim 6                6           7           6  \n",
      "7            claim 7                7           8           7  \n",
      "8            claim 7                7           9           7  \n",
      "9            claim 1                1          10           1  \n",
      "10          claim 10               10          11          10  \n",
      "11          claim 11               11          12          11  \n",
      "12           claim 1                1          13           1  \n",
      "13          claim 13               13          14          13  \n",
      "14               NaN                0          15        15.0  \n",
      "15          claim 15               15          16          15  \n",
      "16          claim 15               15          17          15  \n"
     ]
    }
   ],
   "source": [
    "# Use the NLTK package and insert custom regex to tokenize\n",
    "from nltk.tokenize import RegexpTokenizer\n",
    "s = claim_text\n",
    "tokenizer = RegexpTokenizer('[0-9]\\.', gaps=True)\n",
    "patent1_tokenized_into_claims = tokenizer.tokenize(s)\n",
    "\n",
    "# Convert list of claims into a dataframe\n",
    "patent1_claims = pd.DataFrame({'Claims':patent1_tokenized_into_claims})\n",
    "patent1_claims['Claim_ID'] = patent1_claims.index + 1\n",
    "print(patent1_claims)\n",
    "\n",
    "# Using the regex to get claim number\n",
    "patent1_claims['Parent_claim_desc'] = patent1_claims['Claims'].str.extract('(claim \\d\\d*)', expand=True)\n",
    "\n",
    "# Getting the numerical value of the claim number\n",
    "patent1_claims['Parent_claim_num'] = patent1_claims['Parent_claim_desc'].str.extract('(\\d\\d*)', expand=True)\n",
    "\n",
    "# Defining Claim node \n",
    "patent1_claims['Claim_node'] = patent1_claims['Claim_ID']\n",
    "\n",
    "# Defining Parent node (If independent claim, Parent node = claim node)\n",
    "patent1_claims['Parent_claim_num']=patent1_claims['Parent_claim_num'].fillna(0)\n",
    "\n",
    "# Converted string mined using regex to a numerical value\n",
    "for i in range(len(patent1_claims['Parent_claim_num'])):\n",
    "    patent1_claims['Parent_claim_num'][i] = int(patent1_claims['Parent_claim_num'][i])\n",
    "patent1_claims.loc[ patent1_claims.Parent_claim_num == 0, 'Parent_node' ] = patent1_claims.Claim_node\n",
    "patent1_claims.loc[ patent1_claims.Parent_claim_num != 0, 'Parent_node' ] = patent1_claims.Parent_claim_num\n"
   ]
  },
  {
   "cell_type": "code",
   "execution_count": 27,
   "id": "7f29dcc3",
   "metadata": {},
   "outputs": [],
   "source": [
    "patent1_claims.drop(index=[0],axis=0,inplace=True)"
   ]
  },
  {
   "cell_type": "code",
   "execution_count": 28,
   "id": "ee5f2213",
   "metadata": {
    "scrolled": true
   },
   "outputs": [
    {
     "data": {
      "image/png": "[encoded data removed]",
      "text/plain": [
       "<Figure size 640x480 with 1 Axes>"
      ]
     },
     "metadata": {},
     "output_type": "display_data"
    },
    {
     "name": "stdout",
     "output_type": "stream",
     "text": [
      "ok\n"
     ]
    },
    {
     "ename": "NameError",
     "evalue": "name 'graphviz_layout' is not defined",
     "output_type": "error",
     "traceback": [
      "\u001b[0;31m---------------------------------------------------------------------------\u001b[0m",
      "\u001b[0;31mNameError\u001b[0m                                 Traceback (most recent call last)",
      "\u001b[0;32m/tmp/ipykernel_619143/3511033688.py\u001b[0m in \u001b[0;36m<module>\u001b[0;34m\u001b[0m\n\u001b[1;32m     17\u001b[0m \u001b[0mt\u001b[0m \u001b[0;34m=\u001b[0m \u001b[0minput\u001b[0m\u001b[0;34m(\u001b[0m\u001b[0;34m)\u001b[0m\u001b[0;34m\u001b[0m\u001b[0;34m\u001b[0m\u001b[0m\n\u001b[1;32m     18\u001b[0m \u001b[0;31m#A tree network (sort of)\u001b[0m\u001b[0;34m\u001b[0m\u001b[0;34m\u001b[0m\u001b[0m\n\u001b[0;32m---> 19\u001b[0;31m \u001b[0mnx\u001b[0m\u001b[0;34m.\u001b[0m\u001b[0mdraw\u001b[0m\u001b[0;34m(\u001b[0m\u001b[0mG\u001b[0m\u001b[0;34m,\u001b[0m \u001b[0mpos\u001b[0m\u001b[0;34m=\u001b[0m\u001b[0mgraphviz_layout\u001b[0m\u001b[0;34m(\u001b[0m\u001b[0mG\u001b[0m\u001b[0;34m)\u001b[0m\u001b[0;34m,\u001b[0m \u001b[0mnode_size\u001b[0m\u001b[0;34m=\u001b[0m\u001b[0;36m1600\u001b[0m\u001b[0;34m,\u001b[0m \u001b[0mcmap\u001b[0m\u001b[0;34m=\u001b[0m\u001b[0mplt\u001b[0m\u001b[0;34m.\u001b[0m\u001b[0mcm\u001b[0m\u001b[0;34m.\u001b[0m\u001b[0mBlues\u001b[0m\u001b[0;34m,\u001b[0m\u001b[0mnode_color\u001b[0m\u001b[0;34m=\u001b[0m\u001b[0mrange\u001b[0m\u001b[0;34m(\u001b[0m\u001b[0mlen\u001b[0m\u001b[0;34m(\u001b[0m\u001b[0mG\u001b[0m\u001b[0;34m)\u001b[0m\u001b[0;34m)\u001b[0m\u001b[0;34m,\u001b[0m \u001b[0mprog\u001b[0m\u001b[0;34m=\u001b[0m\u001b[0;34m'dot'\u001b[0m\u001b[0;34m,\u001b[0m \u001b[0msplines\u001b[0m\u001b[0;34m=\u001b[0m\u001b[0mortho\u001b[0m\u001b[0;34m)\u001b[0m\u001b[0;34m\u001b[0m\u001b[0;34m\u001b[0m\u001b[0m\n\u001b[0m\u001b[1;32m     20\u001b[0m \u001b[0mplt\u001b[0m\u001b[0;34m.\u001b[0m\u001b[0mshow\u001b[0m\u001b[0;34m(\u001b[0m\u001b[0;34m)\u001b[0m\u001b[0;34m\u001b[0m\u001b[0;34m\u001b[0m\u001b[0m\n",
      "\u001b[0;31mNameError\u001b[0m: name 'graphviz_layout' is not defined"
     ]
    }
   ],
   "source": [
    "#Build the graph\n",
    "G=nx.DiGraph()   \n",
    "G.add_nodes_from(patent1_claims.Parent_node)\n",
    "G.nodes()\n",
    "G.add_node('None')\n",
    "\n",
    "#Add edges\n",
    "subset = patent1_claims[['Parent_node','Claim_node']]\n",
    "tuples = [tuple(x) for x in subset.values] \n",
    "G.add_edges_from(tuples)\n",
    "G.number_of_edges()\n",
    "\n",
    "#Perform Graph Drawing\n",
    "#A star network  (sort of)\n",
    "nx.draw_networkx(G)\n",
    "plt.show()\n",
    "t = input()\n",
    "#A tree network (sort of)\n",
    "nx.draw(G, pos=graphviz_layout(G), node_size=1600, cmap=plt.cm.Blues,node_color=range(len(G)), prog='dot', splines=ortho)\n",
    "plt.show()"
   ]
  },
  {
   "cell_type": "markdown",
   "id": "c9dc26b5",
   "metadata": {},
   "source": [
    "- Dependency parsing with StanfordCoreNlp"
   ]
  },
  {
   "cell_type": "code",
   "execution_count": 50,
   "id": "330ee650",
   "metadata": {},
   "outputs": [
    {
     "name": "stdout",
     "output_type": "stream",
     "text": [
      "Part of Speech: [('The', 'DT'), ('power', 'NN'), ('conversion', 'NN'), ('device', 'NN'), ('according', 'VBG'), ('to', 'IN'), ('claim', 'NN'), ('1', 'CD'), (',', ','), ('wherein', 'WRB'), ('a', 'DT'), ('rib', 'NN'), ('is', 'VBZ'), ('integrally', 'RB'), ('provided', 'VBN'), ('with', 'IN'), ('the', 'DT'), ('second', 'JJ'), ('wall', 'NN'), ('portion', 'NN'), ('and', 'CC'), ('the', 'DT'), ('peripheral', 'JJ'), ('wall', 'NN'), ('portion.', 'NN'), (',', ',')]\n",
      "Constituency Parsing: (ROOT\n",
      "  (S\n",
      "    (NP (DT The) (NN power))\n",
      "    (VP\n",
      "      (FRAG\n",
      "        (NP (NN conversion) (NN device))\n",
      "        (PP (VBG according)\n",
      "          (PP (IN to)\n",
      "            (NP\n",
      "              (NP (NN claim) (CD 1))\n",
      "              (, ,)\n",
      "              (SBAR\n",
      "                (WHADVP (WRB wherein))\n",
      "                (S\n",
      "                  (NP (DT a) (NN rib))\n",
      "                  (VP (VBZ is)\n",
      "                    (ADVP (RB integrally))\n",
      "                    (VP (VBN provided)\n",
      "                      (PP (IN with)\n",
      "                        (NP\n",
      "                          (NP (DT the) (JJ second) (NN wall) (NN portion))\n",
      "                          (CC and)\n",
      "                          (NP (DT the) (JJ peripheral) (NN wall) (NN portion.))))))))\n",
      "              (, ,))))))))\n",
      "Dependency Parsing: [('ROOT', 0, 4), ('det', 4, 1), ('compound', 3, 2), ('compound', 4, 3), ('case', 7, 5), ('fixed', 5, 6), ('nmod', 4, 7), ('nummod', 7, 8), ('punct', 7, 9), ('advmod', 15, 10), ('det', 12, 11), ('nsubj:pass', 15, 12), ('aux:pass', 15, 13), ('advmod', 15, 14), ('acl:relcl', 7, 15), ('case', 20, 16), ('det', 20, 17), ('amod', 20, 18), ('compound', 20, 19), ('obl', 15, 20), ('cc', 25, 21), ('det', 25, 22), ('amod', 24, 23), ('compound', 25, 24), ('conj', 20, 25), ('punct', 7, 26)]\n"
     ]
    }
   ],
   "source": [
    "from stanfordcorenlp import StanfordCoreNLP\n",
    "\n",
    "nlp = StanfordCoreNLP(r'D:\\Desktop\\Patent segmentation/stanford-corenlp-4.5.0')\n",
    "\n",
    "sentence = patent1_claims.iloc[1, 0]\n",
    "print ('Part of Speech:', nlp.pos_tag(sentence))\n",
    "print ('Constituency Parsing:', nlp.parse(sentence))\n",
    "print ('Dependency Parsing:', nlp.dependency_parse(sentence))\n",
    "\n",
    "nlp.close() "
   ]
  },
  {
   "cell_type": "code",
   "execution_count": null,
   "id": "1bb87258",
   "metadata": {},
   "outputs": [],
   "source": []
  }
 ],
 "metadata": {
  "kernelspec": {
   "display_name": "Python 3 (ipykernel)",
   "language": "python",
   "name": "python3"
  },
  "language_info": {
   "codemirror_mode": {
    "name": "ipython",
    "version": 3
   },
   "file_extension": ".py",
   "mimetype": "text/x-python",
   "name": "python",
   "nbconvert_exporter": "python",
   "pygments_lexer": "ipython3",
   "version": "3.10.8"
  }
 },
 "nbformat": 4,
 "nbformat_minor": 5
}
