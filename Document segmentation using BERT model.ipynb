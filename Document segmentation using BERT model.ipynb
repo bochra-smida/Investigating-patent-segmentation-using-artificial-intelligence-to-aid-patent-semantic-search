{
 "cells": [
  {
   "cell_type": "markdown",
   "id": "b7115b1e",
   "metadata": {},
   "source": [
    "Virual env: myenv"
   ]
  },
  {
   "cell_type": "markdown",
   "id": "ba8762f1",
   "metadata": {},
   "source": [
    "# Importings"
   ]
  },
  {
   "cell_type": "code",
   "execution_count": 1,
   "id": "d57c24f6",
   "metadata": {},
   "outputs": [],
   "source": [
    "import os\n",
    "os.environ['CUDA_LAUNCH_BLOCKING'] = \"1\""
   ]
  },
  {
   "cell_type": "code",
   "execution_count": null,
   "id": "c84ce0fa",
   "metadata": {},
   "outputs": [],
   "source": [
    "import ast\n",
    "import pandas as pd\n",
    "import torch\n",
    "from torch.utils.data import TensorDataset, DataLoader, RandomSampler, SequentialSampler\n",
    "from transformers import BertTokenizer, BertConfig\n",
    "\n",
    "from keras_preprocessing.sequence import pad_sequences\n",
    "from sklearn.model_selection import train_test_split\n",
    "import transformers\n",
    "from transformers.modeling_bert import BertForTokenClassification\n",
    "from transformers.optimization import AdamW\n",
    "from transformers.optimization import get_linear_schedule_with_warmup\n",
    "from seqeval.metrics import f1_score, accuracy_score\n",
    "from tqdm import trange \n",
    "import numpy as np\n",
    "import matplotlib.pyplot as plt\n",
    "import seaborn as sns\n",
    "from sklearn.metrics import recall_score,classification_report,f1_score, accuracy_score, precision_score\n"
   ]
  },
  {
   "cell_type": "code",
   "execution_count": 21,
   "id": "47ea8ce2",
   "metadata": {},
   "outputs": [],
   "source": [
    "torch.cuda.empty_cache()"
   ]
  },
  {
   "cell_type": "code",
   "execution_count": null,
   "id": "9df529e6",
   "metadata": {},
   "outputs": [],
   "source": [
    "device = torch.device(\"cuda\" if torch.cuda.is_available() else \"cpu\")\n",
    "n_gpu = torch.cuda.device_count()\n",
    "print(n_gpu)"
   ]
  },
  {
   "cell_type": "code",
   "execution_count": 4,
   "id": "563e073c",
   "metadata": {},
   "outputs": [],
   "source": [
    "def FindMaxLength(lst):\n",
    "    maxList = max(lst, key = lambda i: len(i))\n",
    "    maxLength = len(maxList)\n",
    "     \n",
    "    return maxLength"
   ]
  },
  {
   "cell_type": "code",
   "execution_count": 5,
   "id": "fbdb5dee",
   "metadata": {},
   "outputs": [],
   "source": [
    "df = pd.read_csv('./uspto_1_desc_final.csv')\n",
    "sentences = df['segments'].to_list()\n",
    "sentences = [ast.literal_eval(x) for x in sentences]\n",
    "labels = df[' segments_binary'].to_list()\n",
    "labels = [ast.literal_eval(x) for x in labels]"
   ]
  },
  {
   "cell_type": "code",
   "execution_count": 6,
   "id": "e1830678",
   "metadata": {},
   "outputs": [
    {
     "data": {
      "text/html": [
       "<div>\n",
       "<style scoped>\n",
       "    .dataframe tbody tr th:only-of-type {\n",
       "        vertical-align: middle;\n",
       "    }\n",
       "\n",
       "    .dataframe tbody tr th {\n",
       "        vertical-align: top;\n",
       "    }\n",
       "\n",
       "    .dataframe thead th {\n",
       "        text-align: right;\n",
       "    }\n",
       "</style>\n",
       "<table border=\"1\" class=\"dataframe\">\n",
       "  <thead>\n",
       "    <tr style=\"text-align: right;\">\n",
       "      <th></th>\n",
       "      <th>Unnamed: 0</th>\n",
       "      <th>Unnamed: 0.1</th>\n",
       "      <th>grant_id</th>\n",
       "      <th>description_text</th>\n",
       "      <th>segments</th>\n",
       "      <th>segments_binary</th>\n",
       "    </tr>\n",
       "  </thead>\n",
       "  <tbody>\n",
       "    <tr>\n",
       "      <th>0</th>\n",
       "      <td>0</td>\n",
       "      <td>0</td>\n",
       "      <td>USD0961886</td>\n",
       "      <td>========== \\n\\n\\n \\n ========== \\n 1. Candy \\...</td>\n",
       "      <td>[' 1. Candy ', ' 1.11.21.31.41.51.61.7 ', ' Th...</td>\n",
       "      <td>[0, 1, 0, 0]</td>\n",
       "    </tr>\n",
       "    <tr>\n",
       "      <th>1</th>\n",
       "      <td>1</td>\n",
       "      <td>1</td>\n",
       "      <td>USD0961887</td>\n",
       "      <td>========== \\n\\n\\nFIG. 1FIG. 2FIG. 3FIG. 4FIG....</td>\n",
       "      <td>['FIG. 1FIG. 2FIG. 3FIG. 4FIG. 5FIG. 6FIG. 7FI...</td>\n",
       "      <td>[1, 0, 0]</td>\n",
       "    </tr>\n",
       "    <tr>\n",
       "      <th>2</th>\n",
       "      <td>2</td>\n",
       "      <td>2</td>\n",
       "      <td>USD0961888</td>\n",
       "      <td>========== \\n\\n\\nFIG. 1FIG. 2FIG. 3FIG. 4FIG....</td>\n",
       "      <td>['FIG. 1FIG. 2FIG. 3FIG. 4FIG. 5FIG. 6FIG. 7FI...</td>\n",
       "      <td>[1, 0, 0]</td>\n",
       "    </tr>\n",
       "    <tr>\n",
       "      <th>3</th>\n",
       "      <td>3</td>\n",
       "      <td>3</td>\n",
       "      <td>USD0961889</td>\n",
       "      <td>========== \\n\\n\\nFIG. 1FIG. 2FIG. 1FIG. 3FIG....</td>\n",
       "      <td>['FIG. 1FIG. 2FIG. 1FIG. 3FIG. 1FIG. 4FIG. 1FI...</td>\n",
       "      <td>[1, 0, 1, 0, 1, 0, 1, 0, 0]</td>\n",
       "    </tr>\n",
       "    <tr>\n",
       "      <th>4</th>\n",
       "      <td>4</td>\n",
       "      <td>4</td>\n",
       "      <td>USD0961890</td>\n",
       "      <td>========== \\n\\n\\nFIG. 1FIG. 2FIG. 3FIG. 4FIG....</td>\n",
       "      <td>['FIG. 1FIG. 2FIG. 3FIG. 4FIG. 5FIG. 6FIG. 7FI...</td>\n",
       "      <td>[0]</td>\n",
       "    </tr>\n",
       "    <tr>\n",
       "      <th>...</th>\n",
       "      <td>...</td>\n",
       "      <td>...</td>\n",
       "      <td>...</td>\n",
       "      <td>...</td>\n",
       "      <td>...</td>\n",
       "      <td>...</td>\n",
       "    </tr>\n",
       "    <tr>\n",
       "      <th>7257</th>\n",
       "      <td>7257</td>\n",
       "      <td>7257</td>\n",
       "      <td>US11432447</td>\n",
       "      <td>========== \\n\\n \\n ========== \\n BACKGROUND O...</td>\n",
       "      <td>[' BACKGROUND OF THE INVENTION ', ' Field of t...</td>\n",
       "      <td>[0, 0, 0, 0, 0, 0, 0, 0, 0, 0, 0, 0, 0, 0, 0, ...</td>\n",
       "    </tr>\n",
       "    <tr>\n",
       "      <th>7258</th>\n",
       "      <td>7258</td>\n",
       "      <td>7258</td>\n",
       "      <td>US11432448</td>\n",
       "      <td>========== \\n\\n \\n ========== \\n CROSS-REFERE...</td>\n",
       "      <td>[' CROSS-REFERENCE TO RELATED APPLICATIONS ', ...</td>\n",
       "      <td>[0, 0, 0, 0, 0, 0, 0, 0, 0, 0, 0, 0, 0, 0, 0, ...</td>\n",
       "    </tr>\n",
       "    <tr>\n",
       "      <th>7259</th>\n",
       "      <td>7259</td>\n",
       "      <td>7259</td>\n",
       "      <td>US11432449</td>\n",
       "      <td>========== \\n\\n \\n ========== \\n CROSS-REFERE...</td>\n",
       "      <td>[' CROSS-REFERENCE TO RELATED APPLICATIONS ', ...</td>\n",
       "      <td>[0, 0, 0, 0, 0, 0, 0, 0, 0, 0, 0, 0, 0, 0, 0, ...</td>\n",
       "    </tr>\n",
       "    <tr>\n",
       "      <th>7260</th>\n",
       "      <td>7260</td>\n",
       "      <td>7260</td>\n",
       "      <td>US11432450</td>\n",
       "      <td>========== \\n\\n \\n ========== \\n TECHNICAL FI...</td>\n",
       "      <td>[' TECHNICAL FIELD ', ' The present disclosure...</td>\n",
       "      <td>[0, 0, 0, 0, 0, 0, 0, 0, 0, 0, 0, 0, 0, 0, 0, ...</td>\n",
       "    </tr>\n",
       "    <tr>\n",
       "      <th>7261</th>\n",
       "      <td>7261</td>\n",
       "      <td>7261</td>\n",
       "      <td>US11432451</td>\n",
       "      <td>========== \\n\\n \\n ========== \\n TECHNICAL FI...</td>\n",
       "      <td>[' TECHNICAL FIELD ', ' The present applicatio...</td>\n",
       "      <td>[0, 0, 0, 0, 0, 1, 0, 0, 0, 0, 0, 0, 0, 0, 0, ...</td>\n",
       "    </tr>\n",
       "  </tbody>\n",
       "</table>\n",
       "<p>7262 rows × 6 columns</p>\n",
       "</div>"
      ],
      "text/plain": [
       "      Unnamed: 0  Unnamed: 0.1    grant_id  \\\n",
       "0              0             0  USD0961886   \n",
       "1              1             1  USD0961887   \n",
       "2              2             2  USD0961888   \n",
       "3              3             3  USD0961889   \n",
       "4              4             4  USD0961890   \n",
       "...          ...           ...         ...   \n",
       "7257        7257          7257  US11432447   \n",
       "7258        7258          7258  US11432448   \n",
       "7259        7259          7259  US11432449   \n",
       "7260        7260          7260  US11432450   \n",
       "7261        7261          7261  US11432451   \n",
       "\n",
       "                                       description_text  \\\n",
       "0      ========== \\n\\n\\n \\n ========== \\n 1. Candy \\...   \n",
       "1      ========== \\n\\n\\nFIG. 1FIG. 2FIG. 3FIG. 4FIG....   \n",
       "2      ========== \\n\\n\\nFIG. 1FIG. 2FIG. 3FIG. 4FIG....   \n",
       "3      ========== \\n\\n\\nFIG. 1FIG. 2FIG. 1FIG. 3FIG....   \n",
       "4      ========== \\n\\n\\nFIG. 1FIG. 2FIG. 3FIG. 4FIG....   \n",
       "...                                                 ...   \n",
       "7257   ========== \\n\\n \\n ========== \\n BACKGROUND O...   \n",
       "7258   ========== \\n\\n \\n ========== \\n CROSS-REFERE...   \n",
       "7259   ========== \\n\\n \\n ========== \\n CROSS-REFERE...   \n",
       "7260   ========== \\n\\n \\n ========== \\n TECHNICAL FI...   \n",
       "7261   ========== \\n\\n \\n ========== \\n TECHNICAL FI...   \n",
       "\n",
       "                                               segments  \\\n",
       "0     [' 1. Candy ', ' 1.11.21.31.41.51.61.7 ', ' Th...   \n",
       "1     ['FIG. 1FIG. 2FIG. 3FIG. 4FIG. 5FIG. 6FIG. 7FI...   \n",
       "2     ['FIG. 1FIG. 2FIG. 3FIG. 4FIG. 5FIG. 6FIG. 7FI...   \n",
       "3     ['FIG. 1FIG. 2FIG. 1FIG. 3FIG. 1FIG. 4FIG. 1FI...   \n",
       "4     ['FIG. 1FIG. 2FIG. 3FIG. 4FIG. 5FIG. 6FIG. 7FI...   \n",
       "...                                                 ...   \n",
       "7257  [' BACKGROUND OF THE INVENTION ', ' Field of t...   \n",
       "7258  [' CROSS-REFERENCE TO RELATED APPLICATIONS ', ...   \n",
       "7259  [' CROSS-REFERENCE TO RELATED APPLICATIONS ', ...   \n",
       "7260  [' TECHNICAL FIELD ', ' The present disclosure...   \n",
       "7261  [' TECHNICAL FIELD ', ' The present applicatio...   \n",
       "\n",
       "                                        segments_binary  \n",
       "0                                          [0, 1, 0, 0]  \n",
       "1                                             [1, 0, 0]  \n",
       "2                                             [1, 0, 0]  \n",
       "3                           [1, 0, 1, 0, 1, 0, 1, 0, 0]  \n",
       "4                                                   [0]  \n",
       "...                                                 ...  \n",
       "7257  [0, 0, 0, 0, 0, 0, 0, 0, 0, 0, 0, 0, 0, 0, 0, ...  \n",
       "7258  [0, 0, 0, 0, 0, 0, 0, 0, 0, 0, 0, 0, 0, 0, 0, ...  \n",
       "7259  [0, 0, 0, 0, 0, 0, 0, 0, 0, 0, 0, 0, 0, 0, 0, ...  \n",
       "7260  [0, 0, 0, 0, 0, 0, 0, 0, 0, 0, 0, 0, 0, 0, 0, ...  \n",
       "7261  [0, 0, 0, 0, 0, 1, 0, 0, 0, 0, 0, 0, 0, 0, 0, ...  \n",
       "\n",
       "[7262 rows x 6 columns]"
      ]
     },
     "execution_count": 6,
     "metadata": {},
     "output_type": "execute_result"
    }
   ],
   "source": [
    "df"
   ]
  },
  {
   "cell_type": "code",
   "execution_count": 33,
   "id": "5caa0f16",
   "metadata": {},
   "outputs": [],
   "source": [
    "tag_values = [0,1]\n",
    "tag_values.append(2)\n",
    "tag2idx = {t: i for i, t in enumerate(tag_values)}\n",
    "n_tags = len(tag_values)\n",
    "MAX_LEN = 512\n",
    "bs = 16"
   ]
  },
  {
   "cell_type": "markdown",
   "id": "08faa5a7",
   "metadata": {},
   "source": [
    "# Description of the model\n",
    "Our model is a pre-trained BERT\n",
    "- Input:\n",
    "X = an array of sentences where a sentence is a list of description text segments.\n",
    "- Output:\n",
    "y = an array of tags where a tag is a list containing binary values for each element in the sequence"
   ]
  },
  {
   "cell_type": "markdown",
   "id": "54c8cc4e",
   "metadata": {},
   "source": [
    "- The tokenizer is based on a word-piece tokenizer that tokenizes the sentence to words that appear in the vocabulary."
   ]
  },
  {
   "cell_type": "code",
   "execution_count": 34,
   "id": "16a243b2",
   "metadata": {
    "scrolled": true
   },
   "outputs": [],
   "source": [
    "tokenizer = BertTokenizer.from_pretrained('bert-base-cased', do_lower_case=False)\n",
    "def tokenize_and_preserve_labels(sentence, text_labels):\n",
    "    tokenized_sentence = []\n",
    "    labels = []\n",
    "\n",
    "    for word, label in zip(sentence, text_labels):\n",
    "\n",
    "        # Tokenize the word and count # of subwords the word is broken into\n",
    "        tokenized_word = tokenizer.tokenize(word)\n",
    "        n_subwords = len(tokenized_word)\n",
    "\n",
    "        # Add the tokenized word to the final tokenized word list\n",
    "        tokenized_sentence.extend(tokenized_word)\n",
    "\n",
    "        # Add the same label to the new list of labels `n_subwords` times\n",
    "        labels.extend([label] * n_subwords)\n",
    "\n",
    "    return tokenized_sentence, labels\n",
    "\n",
    "tokenized_texts_and_labels = [\n",
    "    tokenize_and_preserve_labels(sent, labs)\n",
    "    for sent, labs in zip(sentences, labels)\n",
    "]\n",
    "\n",
    "tokenized_texts = [token_label_pair[0] for token_label_pair in tokenized_texts_and_labels]\n",
    "labels = [token_label_pair[1] for token_label_pair in tokenized_texts_and_labels]\n",
    "\n",
    "input_ids = pad_sequences([tokenizer.convert_tokens_to_ids(txt) for txt in tokenized_texts],\n",
    "                          maxlen=MAX_LEN, dtype=\"long\", value=0.0,\n",
    "                          truncating=\"post\", padding=\"post\")\n",
    "\n",
    "tags = pad_sequences([[tag2idx.get(l) for l in lab] for lab in labels],\n",
    "                     maxlen=MAX_LEN, value=tag2idx[2], padding=\"post\",\n",
    "                     dtype=\"long\", truncating=\"post\")\n",
    "\n",
    "attention_masks = [[float(i != 0.0) for i in ii] for ii in input_ids]\n",
    "\n",
    "tr_inputs, val_inputs, tr_tags, val_tags = train_test_split(input_ids, tags,\n",
    "                                                            random_state=2018, test_size=0.3)\n",
    "tr_masks, val_masks, _, _ = train_test_split(attention_masks, input_ids,\n",
    "                                             random_state=2018, test_size=0.3)\n",
    "\n",
    "tr_inputs = torch.tensor(tr_inputs)\n",
    "val_inputs = torch.tensor(val_inputs)\n",
    "tr_tags = torch.tensor(tr_tags)\n",
    "val_tags = torch.tensor(val_tags)\n",
    "tr_masks = torch.tensor(tr_masks)\n",
    "val_masks = torch.tensor(val_masks)\n",
    "\n",
    "train_data = TensorDataset(tr_inputs, tr_masks, tr_tags)\n",
    "train_sampler = RandomSampler(train_data)\n",
    "train_dataloader = DataLoader(train_data, sampler=train_sampler, batch_size=bs)\n",
    "\n",
    "valid_data = TensorDataset(val_inputs, val_masks, val_tags)\n",
    "valid_sampler = SequentialSampler(valid_data)\n",
    "valid_dataloader = DataLoader(valid_data, sampler=valid_sampler, batch_size=bs)"
   ]
  },
  {
   "cell_type": "code",
   "execution_count": 35,
   "id": "95728605",
   "metadata": {},
   "outputs": [],
   "source": [
    "model = BertForTokenClassification.from_pretrained(\n",
    "    \"bert-base-cased\",\n",
    "    num_labels=len(tag2idx),\n",
    "    output_attentions = False,\n",
    "    output_hidden_states = False\n",
    ")\n"
   ]
  },
  {
   "cell_type": "code",
   "execution_count": 36,
   "id": "591d8b5d",
   "metadata": {},
   "outputs": [],
   "source": [
    "model.cuda();\n"
   ]
  },
  {
   "cell_type": "code",
   "execution_count": 37,
   "id": "4322ed59",
   "metadata": {},
   "outputs": [],
   "source": [
    "FULL_FINETUNING = True\n",
    "if FULL_FINETUNING:\n",
    "    param_optimizer = list(model.named_parameters())\n",
    "    no_decay = ['bias', 'gamma', 'beta']\n",
    "    optimizer_grouped_parameters = [\n",
    "        {'params': [p for n, p in param_optimizer if not any(nd in n for nd in no_decay)],\n",
    "         'weight_decay_rate': 0.01},\n",
    "        {'params': [p for n, p in param_optimizer if any(nd in n for nd in no_decay)],\n",
    "         'weight_decay_rate': 0.0}\n",
    "    ]\n",
    "else:\n",
    "    param_optimizer = list(model.classifier.named_parameters())\n",
    "    optimizer_grouped_parameters = [{\"params\": [p for n, p in param_optimizer]}]\n",
    "\n",
    "optimizer = AdamW(\n",
    "    optimizer_grouped_parameters,\n",
    "    lr=3e-5,\n",
    "    eps=1e-8\n",
    ")\n"
   ]
  },
  {
   "cell_type": "code",
   "execution_count": 38,
   "id": "804cc94c",
   "metadata": {},
   "outputs": [],
   "source": [
    "epochs = 1\n",
    "max_grad_norm = 1.0\n",
    "\n",
    "# Total number of training steps is number of batches * number of epochs.\n",
    "total_steps = len(train_dataloader) * epochs\n",
    "\n",
    "# Create the learning rate scheduler.\n",
    "scheduler = get_linear_schedule_with_warmup(\n",
    "    optimizer,\n",
    "    num_warmup_steps=0,\n",
    "    num_training_steps=total_steps\n",
    ")\n"
   ]
  },
  {
   "cell_type": "code",
   "execution_count": 39,
   "id": "972126a2",
   "metadata": {},
   "outputs": [
    {
     "name": "stderr",
     "output_type": "stream",
     "text": [
      "Epoch:   0%|                                                                                      | 0/1 [00:00<?, ?it/s]"
     ]
    },
    {
     "name": "stdout",
     "output_type": "stream",
     "text": [
      "Average train loss: 0.06593092129288732\n",
      "Validation loss: 0.01042973922132114\n"
     ]
    },
    {
     "name": "stderr",
     "output_type": "stream",
     "text": [
      "Epoch: 100%|█████████████████████████████████████████████████████████████████████████████| 1/1 [12:12<00:00, 732.75s/it]"
     ]
    },
    {
     "name": "stdout",
     "output_type": "stream",
     "text": [
      "Validation Accuracy: 0.9137021712941716\n",
      "\n"
     ]
    },
    {
     "name": "stderr",
     "output_type": "stream",
     "text": [
      "\n"
     ]
    }
   ],
   "source": [
    "loss_values, validation_loss_values = [], []\n",
    "\n",
    "for _ in trange(epochs, desc=\"Epoch\"):\n",
    "    #Training\n",
    "    \n",
    "    model.train()\n",
    "    total_loss = 0\n",
    "\n",
    "    for step, batch in enumerate(train_dataloader):\n",
    "        # add batch to gpu\n",
    "        batch = tuple(t.to(device) for t in batch)\n",
    "        b_input_ids, b_input_mask, b_labels = batch\n",
    "        model.zero_grad()\n",
    "        # forward pass\n",
    "        outputs = model(b_input_ids, token_type_ids=None,\n",
    "                        attention_mask=b_input_mask, labels=b_labels)\n",
    "        # get the loss\n",
    "        loss = outputs[0]\n",
    "        loss.backward()\n",
    "        total_loss += loss.item()\n",
    "        torch.nn.utils.clip_grad_norm_(parameters=model.parameters(), max_norm=max_grad_norm)\n",
    "        optimizer.step()\n",
    "        scheduler.step()\n",
    "\n",
    "    avg_train_loss = total_loss / len(train_dataloader)\n",
    "    print(\"Average train loss: {}\".format(avg_train_loss))\n",
    "\n",
    "    # Store the loss value for plotting the learning curve.\n",
    "    loss_values.append(avg_train_loss)\n",
    "\n",
    "\n",
    "    #Validation\n",
    "    model.eval()\n",
    "    eval_loss, eval_accuracy = 0, 0\n",
    "    nb_eval_steps, nb_eval_examples = 0, 0\n",
    "    predictions , true_labels = [], []\n",
    "    for batch in valid_dataloader:\n",
    "        batch = tuple(t.to(device) for t in batch)\n",
    "        b_input_ids, b_input_mask, b_labels = batch\n",
    "        \n",
    "        with torch.no_grad():\n",
    "            \n",
    "            outputs = model(b_input_ids, token_type_ids=None,\n",
    "                            attention_mask=b_input_mask, labels=b_labels)\n",
    "            \n",
    "        logits = outputs[1].detach().cpu().numpy()\n",
    "        label_ids = b_labels.to('cpu').numpy()\n",
    "\n",
    "        \n",
    "        eval_loss += outputs[0].mean().item()\n",
    "        predictions.extend([list(p) for p in np.argmax(logits, axis=2)])\n",
    "        true_labels.extend(label_ids)\n",
    "\n",
    "    eval_loss = eval_loss / len(valid_dataloader)\n",
    "    validation_loss_values.append(eval_loss)\n",
    "    print(\"Validation loss: {}\".format(eval_loss))\n",
    "    pred_tags = [tag_values[p_i] for p, l in zip(predictions, true_labels)\n",
    "                                 for p_i, l_i in zip(p, l) if tag_values[l_i] != \"PAD\"]\n",
    "    valid_tags = [tag_values[l_i] for l in true_labels\n",
    "                                  for l_i in l if tag_values[l_i] != \"PAD\"]\n",
    "    print(\"Validation Accuracy: {}\".format(accuracy_score(pred_tags, valid_tags)))\n",
    "\n"
   ]
  },
  {
   "cell_type": "code",
   "execution_count": 40,
   "id": "936f9e29",
   "metadata": {},
   "outputs": [
    {
     "name": "stdout",
     "output_type": "stream",
     "text": [
      "epochs = 1 | batch_size= 1 | optimizer:  AdamW (\n",
      "Parameter Group 0\n",
      "    betas: (0.9, 0.999)\n",
      "    correct_bias: True\n",
      "    eps: 1e-08\n",
      "    initial_lr: 3e-05\n",
      "    lr: 0.0\n",
      "    weight_decay: 0.0\n",
      "    weight_decay_rate: 0.01\n",
      "\n",
      "Parameter Group 1\n",
      "    betas: (0.9, 0.999)\n",
      "    correct_bias: True\n",
      "    eps: 1e-08\n",
      "    initial_lr: 3e-05\n",
      "    lr: 0.0\n",
      "    weight_decay: 0.0\n",
      "    weight_decay_rate: 0.0\n",
      ") | loss: tensor(4.6075e-05, device='cuda:0', grad_fn=<NllLossBackward>) \n",
      "\n",
      "recall_score 0.9954360206811561\n",
      "f1_score 0.6416116523937907\n",
      "accuracy_score 0.9137021712941716\n",
      "precision_score 0.38299831205506485\n"
     ]
    },
    {
     "name": "stderr",
     "output_type": "stream",
     "text": [
      "/home/smidab/anaconda3/envs/myenv/lib/python3.7/site-packages/sklearn/metrics/_classification.py:1318: UndefinedMetricWarning: Precision is ill-defined and being set to 0.0 in labels with no predicted samples. Use `zero_division` parameter to control this behavior.\n",
      "  _warn_prf(average, modifier, msg_start, len(result))\n"
     ]
    }
   ],
   "source": [
    "print('epochs =',epochs,'|', 'batch_size=', bs, '|', 'optimizer: ',optimizer,'|', 'loss:', loss, '\\n')\n",
    "print('recall_score', recall_score(valid_tags, pred_tags, average='macro', labels=np.unique(pred_tags)))\n",
    "print('f1_score',f1_score(valid_tags, pred_tags, average='macro', labels=np.unique(pred_tags)))\n",
    "print('accuracy_score',accuracy_score(valid_tags, pred_tags))\n",
    "print('precision_score',precision_score(valid_tags, pred_tags, average='macro'))"
   ]
  },
  {
   "cell_type": "code",
   "execution_count": 32,
   "id": "af35dd38",
   "metadata": {},
   "outputs": [
    {
     "data": {
      "image/png": "[encoded data removed]",
      "text/plain": [
       "<Figure size 1200x600 with 1 Axes>"
      ]
     },
     "metadata": {},
     "output_type": "display_data"
    }
   ],
   "source": [
    "%matplotlib inline\n",
    "\n",
    "\n",
    "\n",
    "# Use plot styling from seaborn.\n",
    "sns.set(style='darkgrid')\n",
    "\n",
    "# Increase the plot size and font size.\n",
    "sns.set(font_scale=1.5)\n",
    "plt.rcParams[\"figure.figsize\"] = (12,6)\n",
    "\n",
    "# Plot the learning curve.\n",
    "plt.plot(loss_values, 'b-o', label=\"training loss\")\n",
    "plt.plot(validation_loss_values, 'r-o', label=\"validation loss\")\n",
    "\n",
    "# Label the plot.\n",
    "plt.xticks([0, 1, 2])\n",
    "plt.title(\"Learning curve\")\n",
    "plt.xlabel(\"Epoch\")\n",
    "plt.ylabel(\"Loss\")\n",
    "plt.legend()\n",
    "\n",
    "plt.show()\n"
   ]
  }
 ],
 "metadata": {
  "kernelspec": {
   "display_name": "Python 3 (ipykernel)",
   "language": "python",
   "name": "python3"
  },
  "language_info": {
   "codemirror_mode": {
    "name": "ipython",
    "version": 3
   },
   "file_extension": ".py",
   "mimetype": "text/x-python",
   "name": "python",
   "nbconvert_exporter": "python",
   "pygments_lexer": "ipython3",
   "version": "3.10.8"
  }
 },
 "nbformat": 4,
 "nbformat_minor": 5
}
