{
 "cells": [
  {
   "cell_type": "markdown",
   "id": "8726d8cd",
   "metadata": {},
   "source": [
    "# Importings"
   ]
  },
  {
   "cell_type": "code",
   "execution_count": 1,
   "id": "4a2b6bbd",
   "metadata": {},
   "outputs": [],
   "source": [
    "import pandas as pd\n",
    "import numpy as np\n",
    "import ast\n",
    "from sklearn.pipeline import Pipeline\n",
    "from sklearn.base import BaseEstimator, TransformerMixin\n",
    "from sklearn.model_selection import cross_val_predict\n",
    "from sklearn.metrics import classification_report\n",
    "from sklearn.ensemble import RandomForestClassifier\n",
    "from sklearn.preprocessing import LabelEncoder"
   ]
  },
  {
   "cell_type": "code",
   "execution_count": 2,
   "id": "ee1bb6a3",
   "metadata": {},
   "outputs": [],
   "source": [
    "def get_words(df):\n",
    "    words = []\n",
    "    for i in range(len(df)):\n",
    "        words.append(ast.literal_eval(df['claim_segments'][i]))\n",
    "    words = [item for sublist in words for item in sublist]\n",
    "    words = [*set(words)]\n",
    "    # add ENDPAD so that all sentences will have the same length\n",
    "    words.append(\"ENDPAD\")\n",
    "    return words\n",
    "def FindMaxLength(lst):\n",
    "    maxList = max(lst, key = lambda i: len(i))\n",
    "    maxLength = len(maxList)\n",
    "     \n",
    "    return maxLength"
   ]
  },
  {
   "cell_type": "code",
   "execution_count": 23,
   "id": "932f7632",
   "metadata": {},
   "outputs": [],
   "source": [
    "df = pd.read_csv('./uspto_df_final.csv')\n",
    "words = get_words(df)\n",
    "sentences = df['claim_segments'].to_list()\n",
    "sentences = [ast.literal_eval(x) for x in sentences]\n",
    "tags = df['claim_segments_binary'].to_list()\n",
    "tags = [ast.literal_eval(x) for x in tags]"
   ]
  },
  {
   "cell_type": "markdown",
   "id": "bde1e0a2",
   "metadata": {},
   "source": [
    "## Prepare the data:\n",
    "- this model gets as an input a list of all the words that are in the claim sentences. Same for the tags"
   ]
  },
  {
   "cell_type": "code",
   "execution_count": 24,
   "id": "cd66946c",
   "metadata": {},
   "outputs": [],
   "source": [
    "sentences = [sent for sentence in sentences for sent in sentence ]\n",
    "tags = [t for tag in tags for t in tag ]"
   ]
  },
  {
   "cell_type": "code",
   "execution_count": 25,
   "id": "fe79a98b",
   "metadata": {},
   "outputs": [],
   "source": [
    "tags = tags[:len(sentences)]"
   ]
  },
  {
   "cell_type": "markdown",
   "id": "ee16c02d",
   "metadata": {},
   "source": [
    "- Here we create a MemoryTagger class that takes as an input a list of words and a list of tags and tries to memorize for each word its tag.\n",
    "- To evaluate the model with cross validation we need to write two methods in the class which are: fit and predict."
   ]
  },
  {
   "cell_type": "code",
   "execution_count": 26,
   "id": "4e2e2356",
   "metadata": {},
   "outputs": [],
   "source": [
    "class MemoryTagger(BaseEstimator, TransformerMixin):\n",
    "    \n",
    "    def fit(self, X, y):\n",
    "        voc = {}\n",
    "        self.tags = []\n",
    "        for x, t in zip(X, y):\n",
    "            if t not in self.tags:\n",
    "                self.tags.append(t)\n",
    "            if x in voc:\n",
    "                if t in voc[x]:\n",
    "                    voc[x][t] += 1\n",
    "                else:\n",
    "                    voc[x][t] = 1\n",
    "            else:\n",
    "                voc[x] = {t: 1}\n",
    "        self.memory = {}\n",
    "        for k, d in voc.items():\n",
    "            self.memory[k] = max(d, key=d.get)\n",
    "    \n",
    "    def predict(self, X, y=None):\n",
    "        return [self.memory.get(x, 0) for x in X]"
   ]
  },
  {
   "cell_type": "code",
   "execution_count": 41,
   "id": "c71bc272",
   "metadata": {},
   "outputs": [],
   "source": [
    "tagger = MemoryTagger()"
   ]
  },
  {
   "cell_type": "code",
   "execution_count": 28,
   "id": "52d13b63",
   "metadata": {},
   "outputs": [],
   "source": [
    "tagger.fit(sentences, tags)"
   ]
  },
  {
   "cell_type": "code",
   "execution_count": 29,
   "id": "8129088d",
   "metadata": {},
   "outputs": [
    {
     "data": {
      "text/plain": [
       "[0, 1]"
      ]
     },
     "execution_count": 29,
     "metadata": {},
     "output_type": "execute_result"
    }
   ],
   "source": [
    "tagger.tags"
   ]
  },
  {
   "cell_type": "markdown",
   "id": "54293446",
   "metadata": {},
   "source": [
    "Cross validation"
   ]
  },
  {
   "cell_type": "code",
   "execution_count": 42,
   "id": "47e32356",
   "metadata": {},
   "outputs": [],
   "source": [
    "pred = cross_val_predict(estimator=MemoryTagger(), X=sentences, y=tags, cv=3)"
   ]
  },
  {
   "cell_type": "code",
   "execution_count": 43,
   "id": "963bd4e9",
   "metadata": {},
   "outputs": [],
   "source": [
    "report = classification_report(y_pred=pred, y_true=tags)"
   ]
  },
  {
   "cell_type": "code",
   "execution_count": 44,
   "id": "c89b886b",
   "metadata": {},
   "outputs": [
    {
     "name": "stdout",
     "output_type": "stream",
     "text": [
      "              precision    recall  f1-score   support\n",
      "\n",
      "           0       0.87      1.00      0.93  15609842\n",
      "           1       0.13      0.00      0.00   2232757\n",
      "\n",
      "    accuracy                           0.87  17842599\n",
      "   macro avg       0.50      0.50      0.47  17842599\n",
      "weighted avg       0.78      0.87      0.82  17842599\n",
      "\n"
     ]
    }
   ],
   "source": [
    "print(report)"
   ]
  },
  {
   "cell_type": "code",
   "execution_count": 45,
   "id": "5cd569c2",
   "metadata": {},
   "outputs": [],
   "source": [
    "def feature_map(word):\n",
    "    #this function creates feature to words for further context\n",
    "    return np.array([word.istitle(), word.islower(), word.isupper(), len(word), word.isdigit(), word.isalpha()])\n"
   ]
  },
  {
   "cell_type": "code",
   "execution_count": 46,
   "id": "663fdd59",
   "metadata": {},
   "outputs": [],
   "source": [
    "words = [feature_map(w) for w in sentences]\n"
   ]
  },
  {
   "cell_type": "code",
   "execution_count": 47,
   "id": "9975fd72",
   "metadata": {},
   "outputs": [],
   "source": [
    "classifier = RandomForestClassifier(n_estimators=10)"
   ]
  },
  {
   "cell_type": "code",
   "execution_count": 48,
   "id": "327813d7",
   "metadata": {},
   "outputs": [],
   "source": [
    "pred = cross_val_predict(classifier, X=words, y=tags, cv=3)"
   ]
  },
  {
   "cell_type": "code",
   "execution_count": 49,
   "id": "3a93c850",
   "metadata": {},
   "outputs": [
    {
     "name": "stdout",
     "output_type": "stream",
     "text": [
      "              precision    recall  f1-score   support\n",
      "\n",
      "           0       0.87      1.00      0.93  15609842\n",
      "           1       0.07      0.00      0.00   2232757\n",
      "\n",
      "    accuracy                           0.87  17842599\n",
      "   macro avg       0.47      0.50      0.47  17842599\n",
      "weighted avg       0.77      0.87      0.82  17842599\n",
      "\n"
     ]
    }
   ],
   "source": [
    "report = classification_report(y_pred=pred, y_true=tags)\n",
    "print(report)\n"
   ]
  },
  {
   "cell_type": "markdown",
   "id": "da34a775",
   "metadata": {},
   "source": [
    "- There is a lack a lot of information necessary for the decision about the features. So now we enhance our simple features by both memory and context information."
   ]
  },
  {
   "cell_type": "code",
   "execution_count": 50,
   "id": "655449fc",
   "metadata": {},
   "outputs": [],
   "source": [
    "class FeatureTransformer(BaseEstimator, TransformerMixin):\n",
    "    \n",
    "    def __init__(self):\n",
    "        self.memory_tagger = MemoryTagger()\n",
    "        self.tag_encoder = LabelEncoder()\n",
    "        \n",
    "    def fit(self, X, y):\n",
    "        words = X\n",
    "        tags = y\n",
    "        self.memory_tagger.fit(words, tags)\n",
    "        self.tag_encoder.fit(tags)\n",
    "        return self\n",
    "    \n",
    "    def transform(self, X, y=None):\n",
    "        def pos_default(p):\n",
    "            if p in self.pos:\n",
    "                return self.pos_encoder.transform([p])[0]\n",
    "            else:\n",
    "                return -1\n",
    "        \n",
    "        words = X\n",
    "        out = []\n",
    "        for i in range(len(words)):\n",
    "            w = words[i]\n",
    "            if i < len(words) - 1:\n",
    "                wp = self.tag_encoder.transform(self.memory_tagger.predict([words[i+1]]))[0]\n",
    "            else:\n",
    "                wp = self.tag_encoder.transform([0])[0]\n",
    "            if i > 0:\n",
    "                if words[i-1] != \".\":\n",
    "                    wm = self.tag_encoder.transform(self.memory_tagger.predict([words[i-1]]))[0]\n",
    "                else:\n",
    "                    wm = self.tag_encoder.transform([0])[0]\n",
    "            else:\n",
    "                wm = self.tag_encoder.transform([0])[0]\n",
    "            out.append(np.array([w.istitle(), w.islower(), w.isupper(), len(w), w.isdigit(), w.isalpha(),\n",
    "                                 self.tag_encoder.transform(self.memory_tagger.predict([w]))[0], wp, wm]))\n",
    "        return out\n"
   ]
  },
  {
   "cell_type": "code",
   "execution_count": 51,
   "id": "9ee7b660",
   "metadata": {},
   "outputs": [],
   "source": [
    "pred = cross_val_predict(Pipeline([(\"feature_map\", FeatureTransformer()), \n",
    "                                   (\"clf\", RandomForestClassifier(n_estimators=10, n_jobs=3))]),\n",
    "                         X=sentences, y=tags, cv=5)\n"
   ]
  },
  {
   "cell_type": "code",
   "execution_count": 52,
   "id": "18eda161",
   "metadata": {},
   "outputs": [
    {
     "name": "stdout",
     "output_type": "stream",
     "text": [
      "              precision    recall  f1-score   support\n",
      "\n",
      "           0       0.87      1.00      0.93  15609842\n",
      "           1       0.14      0.00      0.00   2232757\n",
      "\n",
      "    accuracy                           0.87  17842599\n",
      "   macro avg       0.51      0.50      0.47  17842599\n",
      "weighted avg       0.78      0.87      0.82  17842599\n",
      "\n"
     ]
    }
   ],
   "source": [
    "report = classification_report(y_pred=pred, y_true=tags)\n",
    "print(report)"
   ]
  },
  {
   "cell_type": "code",
   "execution_count": null,
   "id": "e884cec7",
   "metadata": {},
   "outputs": [],
   "source": []
  }
 ],
 "metadata": {
  "kernelspec": {
   "display_name": "Python 3 (ipykernel)",
   "language": "python",
   "name": "python3"
  },
  "language_info": {
   "codemirror_mode": {
    "name": "ipython",
    "version": 3
   },
   "file_extension": ".py",
   "mimetype": "text/x-python",
   "name": "python",
   "nbconvert_exporter": "python",
   "pygments_lexer": "ipython3",
   "version": "3.10.8"
  }
 },
 "nbformat": 4,
 "nbformat_minor": 5
}
