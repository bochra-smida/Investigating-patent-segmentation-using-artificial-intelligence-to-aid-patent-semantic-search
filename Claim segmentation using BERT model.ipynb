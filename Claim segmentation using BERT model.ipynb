{
 "cells": [
  {
   "cell_type": "markdown",
   "id": "b7115b1e",
   "metadata": {},
   "source": [
    "Virual env: myenv"
   ]
  },
  {
   "cell_type": "markdown",
   "id": "e8e47a04",
   "metadata": {},
   "source": [
    "# Requirements:\n",
    "- transformers=2.6.0\n",
    "- torch===1.7.1+cu110\n",
    "- torchvision===0.8.2+cu110\n",
    "- torchaudio===0.7.2"
   ]
  },
  {
   "cell_type": "code",
   "execution_count": null,
   "id": "d57c24f6",
   "metadata": {},
   "outputs": [],
   "source": [
    "import os\n",
    "os.environ['CUDA_LAUNCH_BLOCKING'] = \"1\""
   ]
  },
  {
   "cell_type": "markdown",
   "id": "b6a11812",
   "metadata": {},
   "source": [
    "# Importings:"
   ]
  },
  {
   "cell_type": "code",
   "execution_count": null,
   "id": "ae59400e",
   "metadata": {},
   "outputs": [],
   "source": [
    "import ast\n",
    "import pandas as pd\n",
    "import torch\n",
    "from torch.utils.data import TensorDataset, DataLoader, RandomSampler, SequentialSampler\n",
    "from transformers import BertTokenizer, BertConfig\n",
    "\n",
    "from keras_preprocessing.sequence import pad_sequences\n",
    "from sklearn.model_selection import train_test_split\n",
    "import transformers\n",
    "from transformers.modeling_bert import BertForTokenClassification\n",
    "from transformers.optimization import AdamW\n",
    "from transformers.optimization import get_linear_schedule_with_warmup\n",
    "from seqeval.metrics import f1_score, accuracy_score\n",
    "from tqdm import trange \n",
    "import numpy as np\n",
    "import matplotlib.pyplot as plt\n",
    "import seaborn as sns\n",
    "from sklearn.metrics import recall_score,classification_report,f1_score, accuracy_score, precision_score\n"
   ]
  },
  {
   "cell_type": "markdown",
   "id": "c79e678f",
   "metadata": {},
   "source": [
    "* For performance issues, a GPU is needed for our model"
   ]
  },
  {
   "cell_type": "code",
   "execution_count": null,
   "id": "47ea8ce2",
   "metadata": {},
   "outputs": [],
   "source": [
    "torch.cuda.empty_cache()"
   ]
  },
  {
   "cell_type": "code",
   "execution_count": null,
   "id": "9df529e6",
   "metadata": {},
   "outputs": [],
   "source": [
    "device = torch.device(\"cuda\" if torch.cuda.is_available() else \"cpu\")\n",
    "#device = torch.device('cuda:1')\n",
    "n_gpu = torch.cuda.device_count()\n",
    "print(n_gpu)"
   ]
  },
  {
   "cell_type": "code",
   "execution_count": null,
   "id": "563e073c",
   "metadata": {},
   "outputs": [],
   "source": [
    "def FindMaxLength(lst):\n",
    "    maxList = max(lst, key = lambda i: len(i))\n",
    "    maxLength = len(maxList)\n",
    "     \n",
    "    return maxLength"
   ]
  },
  {
   "cell_type": "code",
   "execution_count": null,
   "id": "fbdb5dee",
   "metadata": {},
   "outputs": [],
   "source": [
    "df = pd.read_csv('./uspto_df_final.csv')\n",
    "sentences = df['claim_segments'].to_list()\n",
    "sentences = [ast.literal_eval(x) for x in sentences]\n",
    "labels = df['claim_segments_binary'].to_list()\n",
    "labels = [ast.literal_eval(x) for x in labels]"
   ]
  },
  {
   "cell_type": "code",
   "execution_count": null,
   "id": "5caa0f16",
   "metadata": {},
   "outputs": [],
   "source": [
    "tag_values = [0,1]\n",
    "tag_values.append(2)\n",
    "tag2idx = {t: i for i, t in enumerate(tag_values)}\n",
    "n_tags = len(tag_values)\n",
    "MAX_LEN = 512\n",
    "bs = 16"
   ]
  },
  {
   "cell_type": "markdown",
   "id": "ae3482f0",
   "metadata": {},
   "source": [
    "# Description of the model\n",
    "Our model is a pre-trained BERT\n",
    "- Input:\n",
    "X = an array of sentences where a sentence is a list of claim segments.\n",
    "- Output:\n",
    "y = an array of tags where a tag is a list containing binary values for each element in the sequence"
   ]
  },
  {
   "cell_type": "markdown",
   "id": "35ce3221",
   "metadata": {},
   "source": [
    "- We make use of a pre-trained tokenizer included with the BERT implmentation. The tokenizer is based on a word-piece tokenizer that tokenizes the sentence to words that appear in the vocabulary.\n",
    "- We create tokenize_and_preserve_labels that take as input a list of sentences and a list of labes and tokenizes them without loosing the mapping between the tokens. That means tokenized word should have his tag tokenized in the same index "
   ]
  },
  {
   "cell_type": "code",
   "execution_count": null,
   "id": "16a243b2",
   "metadata": {
    "scrolled": true
   },
   "outputs": [],
   "source": [
    "tokenizer = BertTokenizer.from_pretrained('bert-base-cased', do_lower_case=False)\n",
    "def tokenize_and_preserve_labels(sentence, text_labels):\n",
    "    tokenized_sentence = []\n",
    "    labels = []\n",
    "\n",
    "    for word, label in zip(sentence, text_labels):\n",
    "\n",
    "        tokenized_word = tokenizer.tokenize(word)\n",
    "        n_subwords = len(tokenized_word)\n",
    "\n",
    "        tokenized_sentence.extend(tokenized_word)\n",
    "        labels.extend([label] * n_subwords)\n",
    "\n",
    "    return tokenized_sentence, labels\n",
    "\n",
    "tokenized_texts_and_labels = [\n",
    "    tokenize_and_preserve_labels(sent, labs)\n",
    "    for sent, labs in zip(sentences, labels)\n",
    "]\n",
    "\n",
    "tokenized_texts = [token_label_pair[0] for token_label_pair in tokenized_texts_and_labels]\n",
    "labels = [token_label_pair[1] for token_label_pair in tokenized_texts_and_labels]\n",
    "\n"
   ]
  },
  {
   "cell_type": "markdown",
   "id": "6a2bbb3c",
   "metadata": {},
   "source": [
    "- To get the token and label sequences to the length we want, we cut and pad them."
   ]
  },
  {
   "cell_type": "code",
   "execution_count": null,
   "id": "a9cbc022",
   "metadata": {},
   "outputs": [],
   "source": [
    "input_ids = pad_sequences([tokenizer.convert_tokens_to_ids(txt) for txt in tokenized_texts],\n",
    "                          maxlen=MAX_LEN, dtype=\"long\", value=0.0,\n",
    "                          truncating=\"post\", padding=\"post\")\n",
    "\n",
    "tags = pad_sequences([[tag2idx.get(l) for l in lab] for lab in labels],\n",
    "                     maxlen=MAX_LEN, value=tag2idx[2], padding=\"post\",\n",
    "                     dtype=\"long\", truncating=\"post\")"
   ]
  },
  {
   "cell_type": "markdown",
   "id": "7488e60c",
   "metadata": {},
   "source": [
    "* In order to ignore the padded components in the sequences, we now create the mask."
   ]
  },
  {
   "cell_type": "code",
   "execution_count": null,
   "id": "55083899",
   "metadata": {},
   "outputs": [],
   "source": [
    "attention_masks = [[float(i != 0.0) for i in ii] for ii in input_ids]"
   ]
  },
  {
   "cell_type": "markdown",
   "id": "94a262aa",
   "metadata": {},
   "source": [
    "* We split the data to train, test and validation sets. After that, we convert the voctors to tensors to prepare it for the model"
   ]
  },
  {
   "cell_type": "code",
   "execution_count": null,
   "id": "74396361",
   "metadata": {},
   "outputs": [],
   "source": [
    "tr_inputs, val_inputs, tr_tags, val_tags = train_test_split(input_ids, tags,\n",
    "                                                            random_state=2018, test_size=0.2)\n",
    "tr_masks, val_masks, _, _ = train_test_split(attention_masks, input_ids,\n",
    "                                             random_state=2018, test_size=0.2)\n",
    "\n",
    "tr_inputs = torch.tensor(tr_inputs)\n",
    "val_inputs = torch.tensor(val_inputs)\n",
    "tr_tags = torch.tensor(tr_tags)\n",
    "val_tags = torch.tensor(val_tags)\n",
    "tr_masks = torch.tensor(tr_masks)\n",
    "val_masks = torch.tensor(val_masks)\n",
    "\n"
   ]
  },
  {
   "cell_type": "markdown",
   "id": "8b6e5be9",
   "metadata": {},
   "source": [
    "* To define the dataloaders. We shuffle the data at training time with the RandomSampler and at test time we just pass them sequentially with the SequentialSampler."
   ]
  },
  {
   "cell_type": "code",
   "execution_count": null,
   "id": "0586ea41",
   "metadata": {},
   "outputs": [],
   "source": [
    "train_data = TensorDataset(tr_inputs, tr_masks, tr_tags)\n",
    "train_sampler = RandomSampler(train_data)\n",
    "train_dataloader = DataLoader(train_data, sampler=train_sampler, batch_size=bs)\n",
    "\n",
    "valid_data = TensorDataset(val_inputs, val_masks, val_tags)\n",
    "valid_sampler = SequentialSampler(valid_data)\n",
    "valid_dataloader = DataLoader(valid_data, sampler=valid_sampler, batch_size=bs)"
   ]
  },
  {
   "cell_type": "markdown",
   "id": "31ca7859",
   "metadata": {},
   "source": [
    "# Prepare the model:\n",
    "* we are using the BERT model for classification of tokens. So the best model to use is BertForTokenClassification from transformers library. \n",
    "* We load the pre-trained bert-base-cased model and provide the number of possible labels."
   ]
  },
  {
   "cell_type": "code",
   "execution_count": null,
   "id": "95728605",
   "metadata": {},
   "outputs": [],
   "source": [
    "model = BertForTokenClassification.from_pretrained(\n",
    "    \"bert-base-cased\",\n",
    "    num_labels=len(tag2idx),\n",
    "    output_attentions = False,\n",
    "    output_hidden_states = False\n",
    ")\n"
   ]
  },
  {
   "cell_type": "code",
   "execution_count": null,
   "id": "591d8b5d",
   "metadata": {},
   "outputs": [],
   "source": [
    "model.cuda();"
   ]
  },
  {
   "cell_type": "markdown",
   "id": "20d297cc",
   "metadata": {},
   "source": [
    "* Prepare the optimizer to be used: The optimizer must be set up, and the parameters that it should update must be added.\n",
    "The AdamW optimizer is a common option. \n"
   ]
  },
  {
   "cell_type": "code",
   "execution_count": null,
   "id": "4322ed59",
   "metadata": {},
   "outputs": [],
   "source": [
    "FULL_FINETUNING = True\n",
    "if FULL_FINETUNING:\n",
    "    param_optimizer = list(model.named_parameters())\n",
    "    no_decay = ['bias', 'gamma', 'beta']\n",
    "    optimizer_grouped_parameters = [\n",
    "        {'params': [p for n, p in param_optimizer if not any(nd in n for nd in no_decay)],\n",
    "         'weight_decay_rate': 0.01},\n",
    "        {'params': [p for n, p in param_optimizer if any(nd in n for nd in no_decay)],\n",
    "         'weight_decay_rate': 0.0}\n",
    "    ]\n",
    "else:\n",
    "    param_optimizer = list(model.classifier.named_parameters())\n",
    "    optimizer_grouped_parameters = [{\"params\": [p for n, p in param_optimizer]}]\n",
    "\n",
    "optimizer = AdamW(\n",
    "    optimizer_grouped_parameters,\n",
    "    lr=3e-5,\n",
    "    eps=1e-8\n",
    ")\n"
   ]
  },
  {
   "cell_type": "markdown",
   "id": "c40582ce",
   "metadata": {},
   "source": [
    "* We add a scheduler to linearly reduce the learning rate throughout the epochs.\n",
    "* We fix the number of total steps: Total number of training steps is number of batches * number of epochs."
   ]
  },
  {
   "cell_type": "code",
   "execution_count": null,
   "id": "804cc94c",
   "metadata": {},
   "outputs": [],
   "source": [
    "epochs = 1\n",
    "max_grad_norm = 1.0\n",
    "\n",
    "total_steps = len(train_dataloader) * epochs\n",
    "scheduler = get_linear_schedule_with_warmup(\n",
    "    optimizer,\n",
    "    num_warmup_steps=0,\n",
    "    num_training_steps=total_steps\n",
    ")\n"
   ]
  },
  {
   "cell_type": "markdown",
   "id": "aad2c9fb",
   "metadata": {},
   "source": [
    "# Fit the BERT model"
   ]
  },
  {
   "cell_type": "code",
   "execution_count": null,
   "id": "972126a2",
   "metadata": {
    "scrolled": true
   },
   "outputs": [],
   "source": [
    "loss_values, validation_loss_values = [], []\n",
    "\n",
    "for _ in trange(epochs, desc=\"Epoch\"):\n",
    "    #Training\n",
    "    \n",
    "    model.train()\n",
    "    total_loss = 0\n",
    "\n",
    "    for step, batch in enumerate(train_dataloader):\n",
    "        # add batch to gpu\n",
    "        batch = tuple(t.to(device) for t in batch)\n",
    "        b_input_ids, b_input_mask, b_labels = batch\n",
    "        model.zero_grad()\n",
    "        # forward pass\n",
    "        outputs = model(b_input_ids, token_type_ids=None,\n",
    "                        attention_mask=b_input_mask, labels=b_labels)\n",
    "        # get the loss\n",
    "        loss = outputs[0]\n",
    "        loss.backward()\n",
    "        total_loss += loss.item()\n",
    "        torch.nn.utils.clip_grad_norm_(parameters=model.parameters(), max_norm=max_grad_norm)\n",
    "        optimizer.step()\n",
    "        scheduler.step()\n",
    "\n",
    "    avg_train_loss = total_loss / len(train_dataloader)\n",
    "    print(\"Average train loss: {}\".format(avg_train_loss))\n",
    "\n",
    "    # Store the loss value for plotting the learning curve.\n",
    "    loss_values.append(avg_train_loss)\n",
    "\n",
    "\n",
    "    #Validation\n",
    "    model.eval()\n",
    "    eval_loss, eval_accuracy = 0, 0\n",
    "    nb_eval_steps, nb_eval_examples = 0, 0\n",
    "    predictions , true_labels = [], []\n",
    "    for batch in valid_dataloader:\n",
    "        batch = tuple(t.to(device) for t in batch)\n",
    "        b_input_ids, b_input_mask, b_labels = batch\n",
    "        \n",
    "        with torch.no_grad():\n",
    "            \n",
    "            outputs = model(b_input_ids, token_type_ids=None,\n",
    "                            attention_mask=b_input_mask, labels=b_labels)\n",
    "            \n",
    "        logits = outputs[1].detach().cpu().numpy()\n",
    "        label_ids = b_labels.to('cpu').numpy()\n",
    "\n",
    "        \n",
    "        eval_loss += outputs[0].mean().item()\n",
    "        predictions.extend([list(p) for p in np.argmax(logits, axis=2)])\n",
    "        true_labels.extend(label_ids)\n",
    "\n",
    "    eval_loss = eval_loss / len(valid_dataloader)\n",
    "    validation_loss_values.append(eval_loss)\n",
    "    print(\"Validation loss: {}\".format(eval_loss))\n",
    "    pred_tags = [tag_values[p_i] for p, l in zip(predictions, true_labels)\n",
    "                                 for p_i, l_i in zip(p, l) if tag_values[l_i] != \"PAD\"]\n",
    "    valid_tags = [tag_values[l_i] for l in true_labels\n",
    "                                  for l_i in l if tag_values[l_i] != \"PAD\"]\n",
    "    print(\"Validation Accuracy: {}\".format(accuracy_score(pred_tags, valid_tags)))\n"
   ]
  },
  {
   "cell_type": "markdown",
   "id": "089e1c9b",
   "metadata": {},
   "source": [
    "# Summary of evaluation metrics"
   ]
  },
  {
   "cell_type": "code",
   "execution_count": null,
   "id": "936f9e29",
   "metadata": {},
   "outputs": [],
   "source": [
    "print('epochs =',epochs,'|', 'batch_size=', bs, '|', 'optimizer: ',optimizer,'|', 'loss:', loss, '\\n')\n",
    "print('recall_score', recall_score(valid_tags, pred_tags, average='macro', labels=np.unique(pred_tags)))\n",
    "print('f1_score',f1_score(valid_tags, pred_tags, average='macro', labels=np.unique(pred_tags)))\n",
    "print('accuracy_score',accuracy_score(valid_tags, pred_tags))\n",
    "print('precision_score',precision_score(valid_tags, pred_tags, average='macro'))"
   ]
  },
  {
   "cell_type": "markdown",
   "id": "a0f9f0c4",
   "metadata": {},
   "source": [
    "* Plot the learning curve."
   ]
  },
  {
   "cell_type": "code",
   "execution_count": null,
   "id": "af35dd38",
   "metadata": {},
   "outputs": [],
   "source": [
    "%matplotlib inline\n",
    "\n",
    "sns.set(style='darkgrid')\n",
    "\n",
    "sns.set(font_scale=1.5)\n",
    "plt.rcParams[\"figure.figsize\"] = (12,6)\n",
    "\n",
    "\n",
    "plt.plot(loss_values, 'b-o', label=\"training loss\")\n",
    "plt.plot(validation_loss_values, 'r-o', label=\"validation loss\")\n",
    "\n",
    "plt.xticks([0, 1, 2])\n",
    "plt.title(\"Learning curve\")\n",
    "plt.xlabel(\"Epoch\")\n",
    "plt.ylabel(\"Loss\")\n",
    "plt.legend()\n",
    "\n",
    "plt.show()\n"
   ]
  },
  {
   "cell_type": "markdown",
   "id": "c026361a",
   "metadata": {},
   "source": [
    "# Apply to a new sentence"
   ]
  },
  {
   "cell_type": "code",
   "execution_count": null,
   "id": "5b66fc05",
   "metadata": {},
   "outputs": [],
   "source": [
    "test_sentence = ' '.join(ast.literal_eval(df['claim_segments'][3000]))\n"
   ]
  },
  {
   "cell_type": "code",
   "execution_count": null,
   "id": "c97351d1",
   "metadata": {},
   "outputs": [],
   "source": [
    "tokenized_sentence = tokenizer.encode(test_sentence)\n",
    "input_ids = torch.tensor([tokenized_sentence]).cuda()\n"
   ]
  },
  {
   "cell_type": "code",
   "execution_count": null,
   "id": "36d38545",
   "metadata": {},
   "outputs": [],
   "source": [
    "with torch.no_grad():\n",
    "    output = model(input_ids)\n",
    "label_indices = np.argmax(output[0].to('cpu').numpy(), axis=2)\n"
   ]
  },
  {
   "cell_type": "code",
   "execution_count": null,
   "id": "4ed9502b",
   "metadata": {},
   "outputs": [],
   "source": [
    "# join bpe split tokens\n",
    "tokens = tokenizer.convert_ids_to_tokens(input_ids.to('cpu').numpy()[0])\n",
    "new_tokens, new_labels = [], []\n",
    "for token, label_idx in zip(tokens, label_indices[0]):\n",
    "    if token.startswith(\"##\"):\n",
    "        new_tokens[-1] = new_tokens[-1] + token[2:]\n",
    "    else:\n",
    "        new_labels.append(tag_values[label_idx])\n",
    "        new_tokens.append(token)\n"
   ]
  },
  {
   "cell_type": "code",
   "execution_count": null,
   "id": "bb8d3a27",
   "metadata": {},
   "outputs": [],
   "source": [
    "for token, label in zip(new_tokens, new_labels):\n",
    "    print(\"{}\\t{}\".format(label, token))\n"
   ]
  }
 ],
 "metadata": {
  "kernelspec": {
   "display_name": "Python 3 (ipykernel)",
   "language": "python",
   "name": "python3"
  },
  "language_info": {
   "codemirror_mode": {
    "name": "ipython",
    "version": 3
   },
   "file_extension": ".py",
   "mimetype": "text/x-python",
   "name": "python",
   "nbconvert_exporter": "python",
   "pygments_lexer": "ipython3",
   "version": "3.10.8"
  }
 },
 "nbformat": 4,
 "nbformat_minor": 5
}
